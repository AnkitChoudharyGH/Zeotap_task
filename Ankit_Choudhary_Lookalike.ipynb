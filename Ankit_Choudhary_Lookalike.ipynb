{
 "cells": [
  {
   "cell_type": "markdown",
   "id": "a1c70c4a",
   "metadata": {},
   "source": [
    "# Task 2\n"
   ]
  },
  {
   "cell_type": "code",
   "execution_count": 1,
   "id": "d62bae55",
   "metadata": {},
   "outputs": [],
   "source": [
    "import pandas as pd\n",
    "from sklearn.metrics.pairwise import cosine_similarity\n",
    "from sklearn.preprocessing import StandardScaler"
   ]
  },
  {
   "cell_type": "code",
   "execution_count": 4,
   "id": "8974da4a",
   "metadata": {},
   "outputs": [],
   "source": [
    "# Load datasets\n",
    "customers = pd.read_csv(\"Customers.csv\")\n",
    "products = pd.read_csv(\"Products.csv\")\n",
    "transactions = pd.read_csv(\"Transactions.csv\")"
   ]
  },
  {
   "cell_type": "code",
   "execution_count": 5,
   "id": "642b4189",
   "metadata": {},
   "outputs": [],
   "source": [
    "# Merge datasets\n",
    "data = transactions.merge(customers, on=\"CustomerID\").merge(products, on=\"ProductID\")"
   ]
  },
  {
   "cell_type": "code",
   "execution_count": 6,
   "id": "182dc095",
   "metadata": {},
   "outputs": [],
   "source": [
    "# Feature engineering: Aggregate customer-level data\n",
    "customer_features = data.groupby(\"CustomerID\").agg({\n",
    "    \"TotalValue\": \"sum\",    # Total spending\n",
    "    \"Quantity\": \"sum\",      # Total quantity purchased\n",
    "    \"Category\": lambda x: x.mode()[0],  # Most frequent category\n",
    "    \"Region\": \"first\",      # Customer region\n",
    "}).reset_index()"
   ]
  },
  {
   "cell_type": "code",
   "execution_count": 7,
   "id": "b3a7b656",
   "metadata": {},
   "outputs": [],
   "source": [
    "# One-hot encode categorical features (Region, Category)\n",
    "customer_features = pd.get_dummies(customer_features, columns=[\"Region\", \"Category\"])"
   ]
  },
  {
   "cell_type": "code",
   "execution_count": 8,
   "id": "c255f27a",
   "metadata": {},
   "outputs": [],
   "source": [
    "# Normalize numerical features\n",
    "scaler = StandardScaler()\n",
    "numeric_cols = [\"TotalValue\", \"Quantity\"]\n",
    "customer_features[numeric_cols] = scaler.fit_transform(customer_features[numeric_cols])\n"
   ]
  },
  {
   "cell_type": "code",
   "execution_count": 9,
   "id": "29b18c36",
   "metadata": {},
   "outputs": [],
   "source": [
    "# Compute similarity matrix\n",
    "feature_matrix = customer_features.drop(\"CustomerID\", axis=1)\n",
    "similarity_matrix = cosine_similarity(feature_matrix)"
   ]
  },
  {
   "cell_type": "code",
   "execution_count": 10,
   "id": "cd26ec2b",
   "metadata": {},
   "outputs": [],
   "source": [
    "# Generate top 3 lookalikes for each customer\n",
    "lookalikes = {}\n",
    "for i, customer_id in enumerate(customer_features[\"CustomerID\"]):\n",
    "    similarity_scores = list(enumerate(similarity_matrix[i]))\n",
    "    sorted_scores = sorted(similarity_scores, key=lambda x: -x[1])  # Sort by similarity\n",
    "    top_3 = [(customer_features.loc[j, \"CustomerID\"], score) \n",
    "             for j, score in sorted_scores[1:4]]  # Skip self-match\n",
    "    lookalikes[customer_id] = top_3"
   ]
  },
  {
   "cell_type": "code",
   "execution_count": 11,
   "id": "52caa78f",
   "metadata": {},
   "outputs": [],
   "source": [
    "# Create Lookalike.csv for customers C0001-C0020\n",
    "lookalike_subset = {k: v for k, v in lookalikes.items() if k in customers[\"CustomerID\"][:20].values}\n",
    "lookalike_df = pd.DataFrame({\n",
    "    \"CustomerID\": lookalike_subset.keys(),\n",
    "    \"Lookalikes\": [str(v) for v in lookalike_subset.values()]\n",
    "})\n",
    "lookalike_df.to_csv(\"Lookalike.csv\", index=False)"
   ]
  },
  {
   "cell_type": "code",
   "execution_count": 12,
   "id": "7cc862e1",
   "metadata": {},
   "outputs": [
    {
     "name": "stdout",
     "output_type": "stream",
     "text": [
      "Lookalike.csv has been generated.\n"
     ]
    }
   ],
   "source": [
    "print(\"Lookalike.csv has been generated.\")"
   ]
  },
  {
   "cell_type": "code",
   "execution_count": null,
   "id": "fd097668",
   "metadata": {},
   "outputs": [],
   "source": []
  }
 ],
 "metadata": {
  "kernelspec": {
   "display_name": "Python 3 (ipykernel)",
   "language": "python",
   "name": "python3"
  },
  "language_info": {
   "codemirror_mode": {
    "name": "ipython",
    "version": 3
   },
   "file_extension": ".py",
   "mimetype": "text/x-python",
   "name": "python",
   "nbconvert_exporter": "python",
   "pygments_lexer": "ipython3",
   "version": "3.11.5"
  }
 },
 "nbformat": 4,
 "nbformat_minor": 5
}
